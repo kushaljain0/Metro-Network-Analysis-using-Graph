{
 "cells": [
  {
   "cell_type": "code",
   "execution_count": 19,
   "metadata": {},
   "outputs": [],
   "source": [
    "import numpy as np\n",
    "import pandas as pd\n",
    "import matplotlib.pyplot as plt"
   ]
  },
  {
   "cell_type": "code",
   "execution_count": 20,
   "metadata": {},
   "outputs": [],
   "source": [
    "df = pd.read_csv('..\\Dataset\\Delhi_Metro_Data.csv')"
   ]
  },
  {
   "cell_type": "code",
   "execution_count": 21,
   "metadata": {},
   "outputs": [
    {
     "data": {
      "text/html": [
       "<div>\n",
       "<style scoped>\n",
       "    .dataframe tbody tr th:only-of-type {\n",
       "        vertical-align: middle;\n",
       "    }\n",
       "\n",
       "    .dataframe tbody tr th {\n",
       "        vertical-align: top;\n",
       "    }\n",
       "\n",
       "    .dataframe thead th {\n",
       "        text-align: right;\n",
       "    }\n",
       "</style>\n",
       "<table border=\"1\" class=\"dataframe\">\n",
       "  <thead>\n",
       "    <tr style=\"text-align: right;\">\n",
       "      <th></th>\n",
       "      <th>Station Name</th>\n",
       "      <th>Latitude</th>\n",
       "      <th>Longitude</th>\n",
       "    </tr>\n",
       "  </thead>\n",
       "  <tbody>\n",
       "    <tr>\n",
       "      <th>0</th>\n",
       "      <td>Adarsh Nagar Delhi</td>\n",
       "      <td>28.716580</td>\n",
       "      <td>77.170422</td>\n",
       "    </tr>\n",
       "    <tr>\n",
       "      <th>1</th>\n",
       "      <td>AIIMS Delhi</td>\n",
       "      <td>28.566860</td>\n",
       "      <td>77.207806</td>\n",
       "    </tr>\n",
       "    <tr>\n",
       "      <th>2</th>\n",
       "      <td>Akshardham Delhi</td>\n",
       "      <td>28.617842</td>\n",
       "      <td>77.279488</td>\n",
       "    </tr>\n",
       "    <tr>\n",
       "      <th>3</th>\n",
       "      <td>Anand Vihar Delhi</td>\n",
       "      <td>28.646834</td>\n",
       "      <td>77.315875</td>\n",
       "    </tr>\n",
       "    <tr>\n",
       "      <th>4</th>\n",
       "      <td>Arjan Garh Delhi</td>\n",
       "      <td>28.480735</td>\n",
       "      <td>77.125762</td>\n",
       "    </tr>\n",
       "  </tbody>\n",
       "</table>\n",
       "</div>"
      ],
      "text/plain": [
       "          Station Name   Latitude  Longitude\n",
       "0  Adarsh Nagar Delhi   28.716580  77.170422\n",
       "1         AIIMS Delhi   28.566860  77.207806\n",
       "2    Akshardham Delhi   28.617842  77.279488\n",
       "3   Anand Vihar Delhi   28.646834  77.315875\n",
       "4    Arjan Garh Delhi   28.480735  77.125762"
      ]
     },
     "execution_count": 21,
     "metadata": {},
     "output_type": "execute_result"
    }
   ],
   "source": [
    "df.head()"
   ]
  },
  {
   "cell_type": "code",
   "execution_count": 22,
   "metadata": {},
   "outputs": [
    {
     "name": "stdout",
     "output_type": "stream",
     "text": [
      "Min Longitude :  76.9192027\n",
      "Min Latitude :  28.340002\n",
      "Max Longitude :  77.4154736\n",
      "Min Latitude :  28.7446158\n"
     ]
    }
   ],
   "source": [
    "BBox = [df.Longitude.min(), df.Longitude.max(), df.Latitude.min(), df.Latitude.max()]\n",
    "print(\"Min Longitude : \" , BBox[0])\n",
    "print(\"Min Latitude : \" , BBox[2])\n",
    "print(\"Max Longitude : \" , BBox[1])\n",
    "print(\"Min Latitude : \" , BBox[3])"
   ]
  }
 ],
 "metadata": {
  "interpreter": {
   "hash": "8597eb358097c96f608d20e1c4b707e917ae234f5873ed9e82e234856a82e768"
  },
  "kernelspec": {
   "display_name": "Python 3.10.2 ('minorenv': venv)",
   "language": "python",
   "name": "python3"
  },
  "language_info": {
   "codemirror_mode": {
    "name": "ipython",
    "version": 3
   },
   "file_extension": ".py",
   "mimetype": "text/x-python",
   "name": "python",
   "nbconvert_exporter": "python",
   "pygments_lexer": "ipython3",
   "version": "3.10.2"
  },
  "orig_nbformat": 4
 },
 "nbformat": 4,
 "nbformat_minor": 2
}
