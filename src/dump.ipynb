{
 "cells": [
  {
   "cell_type": "code",
   "execution_count": null,
   "metadata": {},
   "outputs": [],
   "source": [
    "# to search\n",
    "\n",
    "# query = f\"latitude.to {station_name}\" \n",
    "# web_name = []\n",
    "# for j in search(query, tld=\"to\", num=10, stop=10, pause=2):\n",
    "#     web_name.append(str(j))\n",
    "\n",
    "# URL = web_name[0]\n",
    "\n",
    "# if(URL[0:20] == 'https://latitude.to/') :\n",
    "#     req = requests.get(URL)\n",
    "#     print(URL)\n",
    "\n",
    "#     soup = BeautifulSoup(req.content, 'html5lib') # If this line causes an error, run 'pip install html5lib' or install html5lib\n",
    "#     fp = open('some.txt', 'w',encoding = 'utf-8')\n",
    "\n",
    "#     fp.write(soup.prettify())\n",
    "#     print()\n",
    "\n",
    "#     fp.close()\n",
    "\n",
    "#     value = soup.find('div', attrs = {\n",
    "#         'class' : 'coord DD'\n",
    "#     })\n",
    "\n",
    "\n",
    "#     coord = value.find('input')['value']\n",
    "#     print(coord)\n",
    "#     # print(type(coord))\n",
    "# else :"
   ]
  }
 ],
 "metadata": {
  "language_info": {
   "name": "python"
  },
  "orig_nbformat": 4
 },
 "nbformat": 4,
 "nbformat_minor": 2
}
