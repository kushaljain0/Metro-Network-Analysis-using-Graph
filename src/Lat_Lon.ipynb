{
 "cells": [
  {
   "cell_type": "code",
   "execution_count": 14,
   "metadata": {},
   "outputs": [
    {
     "name": "stdout",
     "output_type": "stream",
     "text": [
      "https://latitude.to/articles-by-country/in/india/79913/adarsh-nagar-metro-station\n",
      "\n",
      "28.718104 77.169385\n",
      "<class 'str'>\n"
     ]
    }
   ],
   "source": [
    "import requests\n",
    "from bs4 import BeautifulSoup\n",
    "import sys\n",
    "import os.path\n",
    "\n",
    "# if os.path.exists(\"input.txt\"):\n",
    "#     sys.stdin = open(\"input.txt\", 'r')\n",
    "#     sys.stdout = open(\"output.txt\", 'w')\n",
    "\n",
    "try:\n",
    "    from googlesearch import search\n",
    "except ImportError:\n",
    "    print(\"No module named 'google' found\")\n",
    "\n",
    "station_name = \"Adarsh Nagar metro station\"\n",
    "# to search\n",
    "query = f\"latitude.to {station_name} Latitude and Longitude\" \n",
    "web_name = []\n",
    "for j in search(query, tld=\"to\", num=10, stop=10, pause=2):\n",
    "    web_name.append(str(j))\n",
    "\n",
    "URL = web_name[0]\n",
    "req = requests.get(URL)\n",
    "print(URL)\n",
    "# soup = BeautifulSoup(req.content, 'html5lib') # If this line causes an error, run 'pip install html5lib' or install html5lib\n",
    "# fp = open('some.txt', 'w')\n",
    "\n",
    "# fp.write(soup.prettify())\n",
    "# print()\n",
    "\n",
    "# fp.close()\n",
    "\n",
    "soup = BeautifulSoup(req.content, 'html5lib')\n",
    "#print(soup)\n",
    "\n",
    "fp = open('some.txt', 'w', encoding=\"utf-8\")\n",
    "\n",
    "fp.write(soup.prettify())\n",
    "print()\n",
    "\n",
    "fp.close()\n",
    "\n",
    "value = soup.find('div', attrs = {\n",
    "    'class' : 'coord DD'\n",
    "})\n",
    "\n",
    "\n",
    "coord = value.find('input')['value']\n",
    "print(coord)\n",
    "print(type(coord))\n"
   ]
  }
 ],
 "metadata": {
  "interpreter": {
   "hash": "8597eb358097c96f608d20e1c4b707e917ae234f5873ed9e82e234856a82e768"
  },
  "kernelspec": {
   "display_name": "Python 3.10.2 ('minorenv': venv)",
   "language": "python",
   "name": "python3"
  },
  "language_info": {
   "codemirror_mode": {
    "name": "ipython",
    "version": 3
   },
   "file_extension": ".py",
   "mimetype": "text/x-python",
   "name": "python",
   "nbconvert_exporter": "python",
   "pygments_lexer": "ipython3",
   "version": "3.10.2"
  },
  "orig_nbformat": 4
 },
 "nbformat": 4,
 "nbformat_minor": 2
}
