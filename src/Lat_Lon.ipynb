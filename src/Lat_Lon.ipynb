{
 "cells": [
  {
   "cell_type": "code",
   "execution_count": 81,
   "metadata": {},
   "outputs": [
    {
     "name": "stdout",
     "output_type": "stream",
     "text": [
      "[{'place_id': 286029873, 'licence': 'Data © OpenStreetMap contributors, ODbL 1.0. https://osm.org/copyright', 'osm_type': 'relation', 'osm_id': 8861306, 'boundingbox': ['28.5604645', '28.568978', '77.2075795', '77.216801'], 'lat': '28.5643603', 'lon': '77.2098719369258', 'display_name': 'AIIMS, New Delhi, Mahatma Gandhi Marg, Defence Colony Tehsil, South East Delhi, Delhi, 1100049, India', 'class': 'amenity', 'type': 'university', 'importance': 0.46469861684138924, 'icon': 'https://nominatim.openstreetmap.org/ui/mapicons//education_university.p.20.png'}, {'place_id': 74753588, 'licence': 'Data © OpenStreetMap contributors, ODbL 1.0. https://osm.org/copyright', 'osm_type': 'node', 'osm_id': 7018301883, 'boundingbox': ['28.5618602', '28.5718602', '77.2028058', '77.2128058'], 'lat': '28.5668602', 'lon': '77.2078058', 'display_name': 'All India Institute of Medical Sciences, Aurobindo Marg, Yusuf Sarai Market, Defence Colony Tehsil, South East Delhi, Delhi, 110029, India', 'class': 'railway', 'type': 'station', 'importance': 0.45458594246920514, 'icon': 'https://nominatim.openstreetmap.org/ui/mapicons//transport_train_station2.p.20.png'}, {'place_id': 173580893, 'licence': 'Data © OpenStreetMap contributors, ODbL 1.0. https://osm.org/copyright', 'osm_type': 'way', 'osm_id': 292483462, 'boundingbox': ['28.5672621', '28.5677136', '77.2113629', '77.2122803'], 'lat': '28.56749655', 'lon': '77.21182101279395', 'display_name': 'Central Lawn, AIIMS, Yusuf Sarai Market, Defence Colony Tehsil, South East Delhi, Delhi, India', 'class': 'landuse', 'type': 'grass', 'importance': 0.42}, {'place_id': 68432632, 'licence': 'Data © OpenStreetMap contributors, ODbL 1.0. https://osm.org/copyright', 'osm_type': 'node', 'osm_id': 6362647075, 'boundingbox': ['28.568966', '28.569066', '77.2075622', '77.2076622'], 'lat': '28.569016', 'lon': '77.2076122', 'display_name': 'AIIMS, Mahatma Gandhi Marg, Vasant Vihar Tehsil, New Delhi, Delhi, 110029, India', 'class': 'railway', 'type': 'subway_entrance', 'importance': 0.22100000000000003}, {'place_id': 72719318, 'licence': 'Data © OpenStreetMap contributors, ODbL 1.0. https://osm.org/copyright', 'osm_type': 'node', 'osm_id': 6888422292, 'boundingbox': ['28.5664847', '28.5665847', '77.2112914', '77.2113914'], 'lat': '28.5665347', 'lon': '77.2113414', 'display_name': 'Cardio Neuro Centre Blood Bank, AIIMS, Sudarshan marg, Yusuf Sarai Market, New Delhi, Defence Colony Tehsil, South East Delhi, Delhi, 110029, India', 'class': 'amenity', 'type': 'blood_bank', 'importance': 0.22100000000000003}, {'place_id': 68035235, 'licence': 'Data © OpenStreetMap contributors, ODbL 1.0. https://osm.org/copyright', 'osm_type': 'node', 'osm_id': 6173217286, 'boundingbox': ['28.5667303', '28.5668303', '77.208048', '77.208148'], 'lat': '28.5667803', 'lon': '77.208098', 'display_name': 'AIIMS, Aurobindo Marg, Yusuf Sarai Market, Defence Colony Tehsil, South East Delhi, Delhi, 110029, India', 'class': 'railway', 'type': 'subway_entrance', 'importance': 0.22100000000000003}, {'place_id': 66146298, 'licence': 'Data © OpenStreetMap contributors, ODbL 1.0. https://osm.org/copyright', 'osm_type': 'node', 'osm_id': 6148020165, 'boundingbox': ['28.5680334', '28.5681334', '77.208213', '77.208313'], 'lat': '28.5680834', 'lon': '77.208263', 'display_name': 'AIIMS, Aurobindo Marg, Defence Colony Tehsil, South East Delhi, Delhi, 110029, India', 'class': 'railway', 'type': 'subway_entrance', 'importance': 0.22100000000000003}, {'place_id': 68208124, 'licence': 'Data © OpenStreetMap contributors, ODbL 1.0. https://osm.org/copyright', 'osm_type': 'node', 'osm_id': 6362609801, 'boundingbox': ['28.5688093', '28.5689093', '77.2132567', '77.2133567'], 'lat': '28.5688593', 'lon': '77.2133067', 'display_name': 'All India Institute of Medical Sciences, Mahatma Gandhi Marg, Defence Colony Tehsil, South East Delhi, Delhi, 1100049, India', 'class': 'highway', 'type': 'bus_stop', 'importance': 0.11100000000000002, 'icon': 'https://nominatim.openstreetmap.org/ui/mapicons//transport_bus_stop2.p.20.png'}, {'place_id': 60369044, 'licence': 'Data © OpenStreetMap contributors, ODbL 1.0. https://osm.org/copyright', 'osm_type': 'node', 'osm_id': 5567166103, 'boundingbox': ['28.5670138', '28.5671138', '77.2079531', '77.2080531'], 'lat': '28.5670638', 'lon': '77.2080031', 'display_name': 'All India Institute of Medical Sciences, Aurobindo Marg, Yusuf Sarai Market, Defence Colony Tehsil, South East Delhi, Delhi, 110029, India', 'class': 'highway', 'type': 'bus_stop', 'importance': 0.11100000000000002, 'icon': 'https://nominatim.openstreetmap.org/ui/mapicons//transport_bus_stop2.p.20.png'}, {'place_id': 55654338, 'licence': 'Data © OpenStreetMap contributors, ODbL 1.0. https://osm.org/copyright', 'osm_type': 'node', 'osm_id': 4819438121, 'boundingbox': ['28.5691505', '28.5692505', '77.2128054', '77.2129054'], 'lat': '28.5692005', 'lon': '77.2128554', 'display_name': 'All India Institute of Medical Sciences, Mahatma Gandhi Marg, Defence Colony Tehsil, South East Delhi, Delhi, 110029, India', 'class': 'highway', 'type': 'bus_stop', 'importance': 0.11100000000000002, 'icon': 'https://nominatim.openstreetmap.org/ui/mapicons//transport_bus_stop2.p.20.png'}]\n",
      "28.5668602\n",
      "77.2078058\n"
     ]
    }
   ],
   "source": [
    "import requests\n",
    "from bs4 import BeautifulSoup\n",
    "import urllib.parse\n",
    "import sys\n",
    "import os.path\n",
    "\n",
    "# if os.path.exists(\"input.txt\"):\n",
    "#     sys.stdin = open(\"input.txt\", 'r')\n",
    "#     sys.stdout = open(\"output.txt\", 'w')\n",
    "\n",
    "try:\n",
    "    from googlesearch import search\n",
    "except ImportError:\n",
    "    print(\"No module named 'google' found\")\n",
    "\n",
    "station_name = \"AIIMS Delhi\"\n",
    "\n",
    "url = 'https://nominatim.openstreetmap.org/search/' + urllib.parse.quote(station_name) +'?format=json'\n",
    "response = requests.get(url).json()\n",
    "print(response)\n",
    "flag = True\n",
    "if(response != []) :\n",
    "    for i in response :\n",
    "        if(i[\"type\"] == 'subway' and flag) :\n",
    "            flag = False \n",
    "            print(i[\"lat\"])\n",
    "            print(i[\"lon\"])\n",
    "            break\n",
    "    \n",
    "    for i in response :\n",
    "        if(i[\"type\"] == 'station' and flag) :\n",
    "            flag = False \n",
    "            print(i[\"lat\"])\n",
    "            print(i[\"lon\"])\n",
    "            break\n",
    "    \n",
    "    if(flag) :\n",
    "        print(response[0][\"lat\"])\n",
    "        print(response[0][\"lon\"])\n",
    "else :\n",
    "    print(\"Not Found!!!\")\n",
    "\n"
   ]
  },
  {
   "cell_type": "code",
   "execution_count": 79,
   "metadata": {},
   "outputs": [
    {
     "name": "stdout",
     "output_type": "stream",
     "text": [
      "17.043175445001744 K.M\n"
     ]
    }
   ],
   "source": [
    "from math import radians, cos, sin, asin, sqrt\n",
    "def distance(lat1, lat2, lon1, lon2):\n",
    "     \n",
    "    # The math module contains a function named\n",
    "    # radians which converts from degrees to radians.\n",
    "    lon1 = radians(lon1)\n",
    "    lon2 = radians(lon2)\n",
    "    lat1 = radians(lat1)\n",
    "    lat2 = radians(lat2)\n",
    "      \n",
    "    # Haversine formula\n",
    "    dlon = lon2 - lon1\n",
    "    dlat = lat2 - lat1\n",
    "    a = sin(dlat / 2)**2 + cos(lat1) * cos(lat2) * sin(dlon / 2)**2\n",
    " \n",
    "    c = 2 * asin(sqrt(a))\n",
    "    \n",
    "    # Radius of earth in kilometers. Use 3956 for miles\n",
    "    r = 6371\n",
    "      \n",
    "    # calculate the result\n",
    "    return(c * r)\n",
    "\n",
    "\n",
    "print(distance(28.7165805, 28.5384028, 77.1704223,77.2067571), \"K.M\")"
   ]
  },
  {
   "cell_type": "markdown",
   "metadata": {},
   "source": []
  }
 ],
 "metadata": {
  "interpreter": {
   "hash": "8597eb358097c96f608d20e1c4b707e917ae234f5873ed9e82e234856a82e768"
  },
  "kernelspec": {
   "display_name": "Python 3.10.2 ('minorenv': venv)",
   "language": "python",
   "name": "python3"
  },
  "language_info": {
   "codemirror_mode": {
    "name": "ipython",
    "version": 3
   },
   "file_extension": ".py",
   "mimetype": "text/x-python",
   "name": "python",
   "nbconvert_exporter": "python",
   "pygments_lexer": "ipython3",
   "version": "3.10.2"
  },
  "orig_nbformat": 4
 },
 "nbformat": 4,
 "nbformat_minor": 2
}
