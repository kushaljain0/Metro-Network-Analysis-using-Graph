{
 "cells": [
  {
   "cell_type": "code",
   "execution_count": 1,
   "metadata": {},
   "outputs": [
    {
     "ename": "KeyboardInterrupt",
     "evalue": "Interrupted by user",
     "output_type": "error",
     "traceback": [
      "\u001b[1;31m---------------------------------------------------------------------------\u001b[0m",
      "\u001b[1;31mKeyboardInterrupt\u001b[0m                         Traceback (most recent call last)",
      "\u001b[1;32md:\\Minor\\Metro-Network-Analysis-using-Graph\\src\\Lat_Lon.ipynb Cell 1'\u001b[0m in \u001b[0;36m<cell line: 52>\u001b[1;34m()\u001b[0m\n\u001b[0;32m     <a href='vscode-notebook-cell:/d%3A/Minor/Metro-Network-Analysis-using-Graph/src/Lat_Lon.ipynb#ch0000000?line=45'>46</a>\u001b[0m         \u001b[39mprint\u001b[39m(\u001b[39m\"\u001b[39m\u001b[39mNot Found!!!\u001b[39m\u001b[39m\"\u001b[39m)\n\u001b[0;32m     <a href='vscode-notebook-cell:/d%3A/Minor/Metro-Network-Analysis-using-Graph/src/Lat_Lon.ipynb#ch0000000?line=49'>50</a>\u001b[0m \u001b[39m# Main\u001b[39;00m\n\u001b[1;32m---> <a href='vscode-notebook-cell:/d%3A/Minor/Metro-Network-Analysis-using-Graph/src/Lat_Lon.ipynb#ch0000000?line=51'>52</a>\u001b[0m n \u001b[39m=\u001b[39m \u001b[39mint\u001b[39m(\u001b[39minput\u001b[39;49m())\n\u001b[0;32m     <a href='vscode-notebook-cell:/d%3A/Minor/Metro-Network-Analysis-using-Graph/src/Lat_Lon.ipynb#ch0000000?line=52'>53</a>\u001b[0m \u001b[39mfor\u001b[39;00m i \u001b[39min\u001b[39;00m \u001b[39mrange\u001b[39m(\u001b[39m1\u001b[39m):\n\u001b[0;32m     <a href='vscode-notebook-cell:/d%3A/Minor/Metro-Network-Analysis-using-Graph/src/Lat_Lon.ipynb#ch0000000?line=53'>54</a>\u001b[0m     s \u001b[39m=\u001b[39m \u001b[39minput\u001b[39m()\u001b[39m.\u001b[39mlstrip(\u001b[39m'\u001b[39m\u001b[39m\"\u001b[39m\u001b[39m'\u001b[39m)\u001b[39m.\u001b[39mrstrip(\u001b[39m'\u001b[39m\u001b[39m\"\u001b[39m\u001b[39m'\u001b[39m)\u001b[39m.\u001b[39mrstrip(\u001b[39m'\u001b[39m\u001b[39m\\n\u001b[39;00m\u001b[39m'\u001b[39m)\n",
      "File \u001b[1;32mD:\\Minor\\Metro-Network-Analysis-using-Graph\\minorenv\\lib\\site-packages\\ipykernel\\kernelbase.py:1075\u001b[0m, in \u001b[0;36mKernel.raw_input\u001b[1;34m(self, prompt)\u001b[0m\n\u001b[0;32m   <a href='file:///d%3A/Minor/Metro-Network-Analysis-using-Graph/minorenv/lib/site-packages/ipykernel/kernelbase.py?line=1070'>1071</a>\u001b[0m \u001b[39mif\u001b[39;00m \u001b[39mnot\u001b[39;00m \u001b[39mself\u001b[39m\u001b[39m.\u001b[39m_allow_stdin:\n\u001b[0;32m   <a href='file:///d%3A/Minor/Metro-Network-Analysis-using-Graph/minorenv/lib/site-packages/ipykernel/kernelbase.py?line=1071'>1072</a>\u001b[0m     \u001b[39mraise\u001b[39;00m StdinNotImplementedError(\n\u001b[0;32m   <a href='file:///d%3A/Minor/Metro-Network-Analysis-using-Graph/minorenv/lib/site-packages/ipykernel/kernelbase.py?line=1072'>1073</a>\u001b[0m         \u001b[39m\"\u001b[39m\u001b[39mraw_input was called, but this frontend does not support input requests.\u001b[39m\u001b[39m\"\u001b[39m\n\u001b[0;32m   <a href='file:///d%3A/Minor/Metro-Network-Analysis-using-Graph/minorenv/lib/site-packages/ipykernel/kernelbase.py?line=1073'>1074</a>\u001b[0m     )\n\u001b[1;32m-> <a href='file:///d%3A/Minor/Metro-Network-Analysis-using-Graph/minorenv/lib/site-packages/ipykernel/kernelbase.py?line=1074'>1075</a>\u001b[0m \u001b[39mreturn\u001b[39;00m \u001b[39mself\u001b[39;49m\u001b[39m.\u001b[39;49m_input_request(\n\u001b[0;32m   <a href='file:///d%3A/Minor/Metro-Network-Analysis-using-Graph/minorenv/lib/site-packages/ipykernel/kernelbase.py?line=1075'>1076</a>\u001b[0m     \u001b[39mstr\u001b[39;49m(prompt),\n\u001b[0;32m   <a href='file:///d%3A/Minor/Metro-Network-Analysis-using-Graph/minorenv/lib/site-packages/ipykernel/kernelbase.py?line=1076'>1077</a>\u001b[0m     \u001b[39mself\u001b[39;49m\u001b[39m.\u001b[39;49m_parent_ident[\u001b[39m\"\u001b[39;49m\u001b[39mshell\u001b[39;49m\u001b[39m\"\u001b[39;49m],\n\u001b[0;32m   <a href='file:///d%3A/Minor/Metro-Network-Analysis-using-Graph/minorenv/lib/site-packages/ipykernel/kernelbase.py?line=1077'>1078</a>\u001b[0m     \u001b[39mself\u001b[39;49m\u001b[39m.\u001b[39;49mget_parent(\u001b[39m\"\u001b[39;49m\u001b[39mshell\u001b[39;49m\u001b[39m\"\u001b[39;49m),\n\u001b[0;32m   <a href='file:///d%3A/Minor/Metro-Network-Analysis-using-Graph/minorenv/lib/site-packages/ipykernel/kernelbase.py?line=1078'>1079</a>\u001b[0m     password\u001b[39m=\u001b[39;49m\u001b[39mFalse\u001b[39;49;00m,\n\u001b[0;32m   <a href='file:///d%3A/Minor/Metro-Network-Analysis-using-Graph/minorenv/lib/site-packages/ipykernel/kernelbase.py?line=1079'>1080</a>\u001b[0m )\n",
      "File \u001b[1;32mD:\\Minor\\Metro-Network-Analysis-using-Graph\\minorenv\\lib\\site-packages\\ipykernel\\kernelbase.py:1120\u001b[0m, in \u001b[0;36mKernel._input_request\u001b[1;34m(self, prompt, ident, parent, password)\u001b[0m\n\u001b[0;32m   <a href='file:///d%3A/Minor/Metro-Network-Analysis-using-Graph/minorenv/lib/site-packages/ipykernel/kernelbase.py?line=1116'>1117</a>\u001b[0m             \u001b[39mbreak\u001b[39;00m\n\u001b[0;32m   <a href='file:///d%3A/Minor/Metro-Network-Analysis-using-Graph/minorenv/lib/site-packages/ipykernel/kernelbase.py?line=1117'>1118</a>\u001b[0m \u001b[39mexcept\u001b[39;00m \u001b[39mKeyboardInterrupt\u001b[39;00m:\n\u001b[0;32m   <a href='file:///d%3A/Minor/Metro-Network-Analysis-using-Graph/minorenv/lib/site-packages/ipykernel/kernelbase.py?line=1118'>1119</a>\u001b[0m     \u001b[39m# re-raise KeyboardInterrupt, to truncate traceback\u001b[39;00m\n\u001b[1;32m-> <a href='file:///d%3A/Minor/Metro-Network-Analysis-using-Graph/minorenv/lib/site-packages/ipykernel/kernelbase.py?line=1119'>1120</a>\u001b[0m     \u001b[39mraise\u001b[39;00m \u001b[39mKeyboardInterrupt\u001b[39;00m(\u001b[39m\"\u001b[39m\u001b[39mInterrupted by user\u001b[39m\u001b[39m\"\u001b[39m) \u001b[39mfrom\u001b[39;00m \u001b[39mNone\u001b[39m\n\u001b[0;32m   <a href='file:///d%3A/Minor/Metro-Network-Analysis-using-Graph/minorenv/lib/site-packages/ipykernel/kernelbase.py?line=1120'>1121</a>\u001b[0m \u001b[39mexcept\u001b[39;00m \u001b[39mException\u001b[39;00m:\n\u001b[0;32m   <a href='file:///d%3A/Minor/Metro-Network-Analysis-using-Graph/minorenv/lib/site-packages/ipykernel/kernelbase.py?line=1121'>1122</a>\u001b[0m     \u001b[39mself\u001b[39m\u001b[39m.\u001b[39mlog\u001b[39m.\u001b[39mwarning(\u001b[39m\"\u001b[39m\u001b[39mInvalid Message:\u001b[39m\u001b[39m\"\u001b[39m, exc_info\u001b[39m=\u001b[39m\u001b[39mTrue\u001b[39;00m)\n",
      "\u001b[1;31mKeyboardInterrupt\u001b[0m: Interrupted by user"
     ]
    }
   ],
   "source": [
    "import requests\n",
    "from bs4 import BeautifulSoup\n",
    "import urllib.parse\n",
    "import sys\n",
    "import os.path\n",
    "\n",
    "if os.path.exists(\"input.txt\"):\n",
    "    sys.stdin = open(\"input.txt\", 'r')\n",
    "\n",
    "sys.stdout = open(\"output.txt\", 'w')\n",
    "\n",
    "\n",
    "try:\n",
    "    from googlesearch import search\n",
    "except ImportError:\n",
    "    print(\"No module named 'google' found\")\n",
    "\n",
    "def Lat_Lon(name) :\n",
    "    station_name = f\"{name} Delhi \"\n",
    "    url = 'https://nominatim.openstreetmap.org/search/' + urllib.parse.quote(station_name) +'?format=json'\n",
    "    response = requests.get(url).json()\n",
    "    #print(response)\n",
    "    flag = True\n",
    "    if(response != []) :\n",
    "        for i in response :\n",
    "            if(i[\"type\"] == 'subway' and flag) :\n",
    "                flag = False \n",
    "                print(\"Station Name : \",station_name, end=\" \")\n",
    "                print(\"Latitude : \",i[\"lat\"], end=\" \")\n",
    "                print(\"Longitude : \",i[\"lon\"])\n",
    "                break\n",
    "        \n",
    "        for i in response :\n",
    "            if(i[\"type\"] == 'station' and flag) :\n",
    "                flag = False \n",
    "                print(\"Station Name : \",station_name, end=\" \")\n",
    "                print(\"Latitude : \",i[\"lat\"], end=\" \")\n",
    "                print(\"Longitude : \",i[\"lon\"])\n",
    "                break\n",
    "        \n",
    "        if(flag) :\n",
    "            print(\"Station Name : \",station_name,end=\"\")\n",
    "            print(\"Latitude : \",response[0][\"lat\"],end=\"\")\n",
    "            print(\"Longitude : \",response[0][\"lon\"],)\n",
    "    else :\n",
    "        print(\"Not Found!!!\")\n",
    "\n",
    "\n",
    "\n",
    "# Main\n",
    "\n",
    "n = int(input())\n",
    "for i in range(n):\n",
    "    s = input().lstrip('\"').rstrip('\"').rstrip('\\n')\n",
    "    print(s)\n",
    "    Lat_Lon(s)"
   ]
  },
  {
   "cell_type": "code",
   "execution_count": 79,
   "metadata": {},
   "outputs": [
    {
     "name": "stdout",
     "output_type": "stream",
     "text": [
      "17.043175445001744 K.M\n"
     ]
    }
   ],
   "source": [
    "from math import radians, cos, sin, asin, sqrt\n",
    "def distance(lat1, lat2, lon1, lon2):\n",
    "     \n",
    "    # The math module contains a function named\n",
    "    # radians which converts from degrees to radians.\n",
    "    lon1 = radians(lon1)\n",
    "    lon2 = radians(lon2)\n",
    "    lat1 = radians(lat1)\n",
    "    lat2 = radians(lat2)\n",
    "      \n",
    "    # Haversine formula\n",
    "    dlon = lon2 - lon1\n",
    "    dlat = lat2 - lat1\n",
    "    a = sin(dlat / 2)**2 + cos(lat1) * cos(lat2) * sin(dlon / 2)**2\n",
    " \n",
    "    c = 2 * asin(sqrt(a))\n",
    "    \n",
    "    # Radius of earth in kilometers. Use 3956 for miles\n",
    "    r = 6371\n",
    "      \n",
    "    # calculate the result\n",
    "    return(c * r)\n",
    "\n",
    "\n",
    "print(distance(28.7165805, 28.5384028, 77.1704223,77.2067571), \"K.M\")"
   ]
  },
  {
   "cell_type": "markdown",
   "metadata": {},
   "source": []
  },
  {
   "cell_type": "code",
   "execution_count": 11,
   "metadata": {},
   "outputs": [
    {
     "name": "stdout",
     "output_type": "stream",
     "text": [
      "None\n"
     ]
    }
   ],
   "source": [
    "from geopy.geocoders import Nominatim\n",
    "locator = Nominatim(user_agent= \"myGeocoder\")\n",
    "location = locator.geocode(\"Brigadier Hoshiyar Singh Delhi\")\n",
    "print(location)\n",
    "\n"
   ]
  }
 ],
 "metadata": {
  "interpreter": {
   "hash": "8597eb358097c96f608d20e1c4b707e917ae234f5873ed9e82e234856a82e768"
  },
  "kernelspec": {
   "display_name": "Python 3.10.2 ('minorenv': venv)",
   "language": "python",
   "name": "python3"
  },
  "language_info": {
   "codemirror_mode": {
    "name": "ipython",
    "version": 3
   },
   "file_extension": ".py",
   "mimetype": "text/x-python",
   "name": "python",
   "nbconvert_exporter": "python",
   "pygments_lexer": "ipython3",
   "version": "3.10.2"
  },
  "orig_nbformat": 4
 },
 "nbformat": 4,
 "nbformat_minor": 2
}
